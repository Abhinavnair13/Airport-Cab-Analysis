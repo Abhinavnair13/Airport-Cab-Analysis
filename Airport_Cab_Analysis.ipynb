{
  "nbformat": 4,
  "nbformat_minor": 0,
  "metadata": {
    "colab": {
      "provenance": [],
      "mount_file_id": "14SbojMuP_ei3r4wpR4amB9I8_2RceUEY",
      "authorship_tag": "ABX9TyOLhD0KNk1mXoq4o7IdsPHU",
      "include_colab_link": true
    },
    "kernelspec": {
      "name": "python3",
      "display_name": "Python 3"
    },
    "language_info": {
      "name": "python"
    }
  },
  "cells": [
    {
      "cell_type": "markdown",
      "metadata": {
        "id": "view-in-github",
        "colab_type": "text"
      },
      "source": [
        "<a href=\"https://colab.research.google.com/github/Abhinavnair13/Airport-Cab-Analysis/blob/main/Airport_Cab_Analysis.ipynb\" target=\"_parent\"><img src=\"https://colab.research.google.com/assets/colab-badge.svg\" alt=\"Open In Colab\"/></a>"
      ]
    },
    {
      "cell_type": "code",
      "execution_count": null,
      "metadata": {
        "id": "ibyV3eAgI3BR"
      },
      "outputs": [],
      "source": [
        "import numpy as np"
      ]
    },
    {
      "cell_type": "code",
      "source": [
        "taxi_data = np.genfromtxt('/content/drive/MyDrive/Colab Notebooks/nyc_taxis.csv',delimiter=',',skip_header=True)"
      ],
      "metadata": {
        "id": "S_x_JhMSI86q"
      },
      "execution_count": null,
      "outputs": []
    },
    {
      "cell_type": "code",
      "source": [
        "print(taxi_data)"
      ],
      "metadata": {
        "colab": {
          "base_uri": "https://localhost:8080/"
        },
        "id": "2dgsbkhBJT8m",
        "outputId": "ba7bcc99-fbbd-46b7-d272-4c4a223313ad"
      },
      "execution_count": null,
      "outputs": [
        {
          "output_type": "stream",
          "name": "stdout",
          "text": [
            "[[2.016e+03 1.000e+00 1.000e+00 ... 1.165e+01 6.999e+01 1.000e+00]\n",
            " [2.016e+03 1.000e+00 1.000e+00 ... 8.000e+00 5.430e+01 1.000e+00]\n",
            " [2.016e+03 1.000e+00 1.000e+00 ... 0.000e+00 3.780e+01 2.000e+00]\n",
            " ...\n",
            " [2.016e+03 6.000e+00 3.000e+01 ... 5.000e+00 6.334e+01 1.000e+00]\n",
            " [2.016e+03 6.000e+00 3.000e+01 ... 8.950e+00 4.475e+01 1.000e+00]\n",
            " [2.016e+03 6.000e+00 3.000e+01 ... 0.000e+00 5.484e+01 2.000e+00]]\n"
          ]
        }
      ]
    },
    {
      "cell_type": "markdown",
      "source": [
        "#Q1) Find mean of speed of cabs"
      ],
      "metadata": {
        "id": "3mxG0pw8Kxnt"
      }
    },
    {
      "cell_type": "markdown",
      "source": [
        "There is no speed column in the dataset so we have to calculate speed from trip distance and trip length."
      ],
      "metadata": {
        "id": "_SG-mC49K10T"
      }
    },
    {
      "cell_type": "code",
      "source": [
        "speed = taxi_data[:,7]/(taxi_data[:,8]/3600)\n",
        "print(speed)"
      ],
      "metadata": {
        "colab": {
          "base_uri": "https://localhost:8080/"
        },
        "id": "in-sDvoXLSCN",
        "outputId": "2425d55c-2bcf-49e6-a818-c21a2d586cce"
      },
      "execution_count": null,
      "outputs": [
        {
          "output_type": "stream",
          "name": "stdout",
          "text": [
            "[37.11340206 38.58157895 31.27222982 ... 22.29907867 42.41551247\n",
            " 36.90473407]\n"
          ]
        }
      ]
    },
    {
      "cell_type": "code",
      "source": [
        "mean_speed = speed.mean()\n",
        "print(mean_speed)"
      ],
      "metadata": {
        "colab": {
          "base_uri": "https://localhost:8080/"
        },
        "id": "xMq6ytzpLrer",
        "outputId": "568bc2d1-b5c3-4635-868b-57f8aca75bf1"
      },
      "execution_count": null,
      "outputs": [
        {
          "output_type": "stream",
          "name": "stdout",
          "text": [
            "32.24258580925573\n"
          ]
        }
      ]
    },
    {
      "cell_type": "markdown",
      "source": [
        "#Q2) Calculate the number of rides taken in the month of februrary"
      ],
      "metadata": {
        "id": "BROUoOIEirAy"
      }
    },
    {
      "cell_type": "code",
      "source": [
        "taxi_data[taxi_data[:,1] == 2,1]\n",
        "# == 2,1] the 1 here returns only the value of the column , otherwise we will be getting all column value for that particular row"
      ],
      "metadata": {
        "colab": {
          "base_uri": "https://localhost:8080/"
        },
        "id": "TJMYcuXDMQgP",
        "outputId": "6dd5fed2-4ee9-4206-8955-640230e7e332"
      },
      "execution_count": null,
      "outputs": [
        {
          "output_type": "execute_result",
          "data": {
            "text/plain": [
              "array([2., 2., 2., ..., 2., 2., 2.])"
            ]
          },
          "metadata": {},
          "execution_count": 9
        }
      ]
    },
    {
      "cell_type": "code",
      "source": [
        "rides_feb = taxi_data[taxi_data[:,1] == 2].shape[0]\n",
        "print(rides_feb)"
      ],
      "metadata": {
        "colab": {
          "base_uri": "https://localhost:8080/"
        },
        "id": "WMzuS_-7knTy",
        "outputId": "9ff79102-d55e-43a5-e05a-34160dff932f"
      },
      "execution_count": null,
      "outputs": [
        {
          "output_type": "stream",
          "name": "stdout",
          "text": [
            "13333\n"
          ]
        }
      ]
    },
    {
      "cell_type": "markdown",
      "source": [
        "#Q3) Number of rides where tip was greater than $50"
      ],
      "metadata": {
        "id": "OuUC-Zrwmc0U"
      }
    },
    {
      "cell_type": "code",
      "source": [
        "tip = taxi_data[taxi_data[:,-3] > 50,-3]\n",
        "#tip column is -3 from right\n",
        "print(tip.shape[0])"
      ],
      "metadata": {
        "colab": {
          "base_uri": "https://localhost:8080/"
        },
        "id": "FI_Fk-BumkQb",
        "outputId": "269d54fe-10be-44cc-9725-444537ddab7a"
      },
      "execution_count": null,
      "outputs": [
        {
          "output_type": "stream",
          "name": "stdout",
          "text": [
            "16\n"
          ]
        }
      ]
    },
    {
      "cell_type": "markdown",
      "source": [
        "#Q4) Calculate the number of rides where the drop was JFK airport(dropoff_location_code=2)"
      ],
      "metadata": {
        "id": "n-g3IEf-pEhl"
      }
    },
    {
      "cell_type": "code",
      "source": [
        "JFK_rides = taxi_data[taxi_data[:,6]==2,6]\n",
        "print(JFK_rides.shape[0])"
      ],
      "metadata": {
        "colab": {
          "base_uri": "https://localhost:8080/"
        },
        "id": "AyqkvPmdpcny",
        "outputId": "c8d91f65-5b5f-4957-98ba-b6f5d22544bb"
      },
      "execution_count": null,
      "outputs": [
        {
          "output_type": "stream",
          "name": "stdout",
          "text": [
            "11832\n"
          ]
        }
      ]
    },
    {
      "cell_type": "code",
      "source": [],
      "metadata": {
        "id": "uAUX2wq9prQ6"
      },
      "execution_count": null,
      "outputs": []
    }
  ]
}